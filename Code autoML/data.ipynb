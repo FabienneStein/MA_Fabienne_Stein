{
 "cells": [
  {
   "cell_type": "code",
   "execution_count": null,
   "id": "b8df5386-92a8-4471-ab43-3dccb52d52a2",
   "metadata": {
    "tags": []
   },
   "outputs": [],
   "source": [
    "%run dataImport.ipynb"
   ]
  },
  {
   "cell_type": "code",
   "execution_count": null,
   "id": "5d1a6156-0510-4b19-b4d5-39426418e1ec",
   "metadata": {
    "tags": []
   },
   "outputs": [],
   "source": [
    "path = \"/home/fabienne/Documents/MA/Data/Dataset_MA.csv\" # because of data privacy reasons, I was not allowed to publish the dataset\n",
    "df = time_series(path)"
   ]
  },
  {
   "cell_type": "code",
   "execution_count": null,
   "id": "65a8bc4d-ff9b-451e-a31b-09e9f782a06a",
   "metadata": {
    "tags": []
   },
   "outputs": [],
   "source": [
    "df_t = df\n",
    "df_t['Datetime'] = pd.to_datetime(df['Datetime'])\n",
    "df_t = df_t.set_index('Datetime')"
   ]
  },
  {
   "cell_type": "code",
   "execution_count": null,
   "id": "55674ba6-be64-444b-bf96-1b5040b3da14",
   "metadata": {
    "tags": []
   },
   "outputs": [],
   "source": [
    "f = df_t['Aktueller_Strombezug_kW'].first_valid_index()\n",
    "s = df_t['Aktueller_Strombezug_kW'].last_valid_index()"
   ]
  },
  {
   "cell_type": "code",
   "execution_count": null,
   "id": "eb6dcd85-7579-457d-9283-d902ac6efef6",
   "metadata": {
    "tags": []
   },
   "outputs": [],
   "source": [
    "print(len(df_t))\n",
    "print(df.columns)"
   ]
  },
  {
   "cell_type": "code",
   "execution_count": null,
   "id": "d4c5790a-1771-4775-8e5d-107727d9741a",
   "metadata": {
    "tags": []
   },
   "outputs": [],
   "source": [
    "print(df_t[\"Aktuelle_BHKW_Leistung_kW\"].head())"
   ]
  },
  {
   "cell_type": "markdown",
   "id": "a6c5ceee-2c42-4055-907a-7c81692c5d87",
   "metadata": {},
   "source": [
    "## Frequency of variables"
   ]
  },
  {
   "cell_type": "markdown",
   "id": "8dcfe023-703f-4f96-ad58-d9a69a8e5007",
   "metadata": {
    "tags": []
   },
   "source": [
    "# Aggregate Dataset\n"
   ]
  },
  {
   "cell_type": "code",
   "execution_count": null,
   "id": "3983f169-49d4-4b1d-b712-b327831b0f57",
   "metadata": {
    "tags": []
   },
   "outputs": [],
   "source": [
    "# fill the values for the variables that are just made once in a day\n",
    "for i in [\"Mitarbeiter_Geplant\", \"Mitarbeiter_Summe\", \"Produktion_Geplant\"]:\n",
    "    df_t[i] = df_t.groupby(df_t.index.date)[i].fillna(method='ffill')"
   ]
  },
  {
   "cell_type": "code",
   "execution_count": null,
   "id": "5031eeed-bc20-4510-b3b9-befe6b0654be",
   "metadata": {},
   "outputs": [],
   "source": [
    "# aggregate data\n",
    "ag_df = df_t.resample('6H').mean()\n",
    "print(len(ag_df))\n",
    "# do majority voting for dummy variables(can just be 0 or 1)\n",
    "tmp = df_t[[\"BHKW1_Betriebsstatus\" ,\"BHKW2_Betriebsstatus\"]]\n",
    "tmp = df_t.resample('6H').apply(lambda x: 0 if (x == 0).sum() > (x == 1).sum() else 1)\n",
    "print(len(tmp))"
   ]
  },
  {
   "cell_type": "code",
   "execution_count": null,
   "id": "5fe925f6-b2d6-4ecc-95dd-457ecebdd03a",
   "metadata": {
    "tags": []
   },
   "outputs": [],
   "source": [
    "# auf ganze zahlen runden bei mitarbeitern\n",
    "for i in [\"Mitarbeiter_Geplant\", \"Mitarbeiter_Summe\"]:\n",
    "    ag_df[i] = ag_df[i].round()"
   ]
  },
  {
   "cell_type": "code",
   "execution_count": null,
   "id": "1ea41acb-dba1-46d4-a4ef-dee65a99d788",
   "metadata": {
    "tags": []
   },
   "outputs": [],
   "source": [
    "# extract features\n",
    "fst = tmp[\"BHKW1_Betriebsstatus\"].to_numpy()\n",
    "scd = tmp[\"BHKW2_Betriebsstatus\"].to_numpy()\n",
    "# replace in dataset\n",
    "ag_df[\"BHKW1_Betriebsstatus\"] = fst\n",
    "ag_df[\"BHKW2_Betriebsstatus\"] = scd"
   ]
  },
  {
   "cell_type": "code",
   "execution_count": null,
   "id": "6c0801f3-39d6-4e80-9caa-adfb6a324611",
   "metadata": {
    "tags": []
   },
   "outputs": [],
   "source": [
    "kw = ag_df[\"Aktueller_Strombezug_kW\"].mean()\n",
    "kw.round(3)\n",
    "#print(ag_df.head())\n",
    "#print(ag_df.head(-1))"
   ]
  },
  {
   "cell_type": "markdown",
   "id": "1b6c1e5e-202d-4222-b93d-69b3a8dd0c23",
   "metadata": {},
   "source": [
    "# Preprocessing"
   ]
  },
  {
   "cell_type": "code",
   "execution_count": null,
   "id": "4579b232-e5cf-4e4f-a487-4feaeccf7144",
   "metadata": {
    "tags": []
   },
   "outputs": [],
   "source": [
    "var = ag_df.columns.tolist()\n",
    "pos = var[:]\n",
    "norm = var[:]\n",
    "pos.remove('Aussentemperatur')\n",
    "norm.remove('Aktueller_Strombezug_kW')"
   ]
  },
  {
   "cell_type": "code",
   "execution_count": null,
   "id": "a6251a7c-23ce-46db-8930-80ec95f3c814",
   "metadata": {
    "tags": []
   },
   "outputs": [],
   "source": [
    "# function fo just positive values\n",
    "def pos_values(df,col):\n",
    "    df.loc[df[col] < 0, col] = 0\n",
    "\n",
    "for i in pos:\n",
    "    pos_values(ag_df, i)"
   ]
  },
  {
   "cell_type": "code",
   "execution_count": null,
   "id": "d3f406f6-cccf-4e6d-a6f8-579f39354510",
   "metadata": {
    "tags": []
   },
   "outputs": [],
   "source": [
    "# check of the dummy variables are just 0 and 1 \n",
    "for i in ['BHKW1_Betriebsstatus','BHKW2_Betriebsstatus']:\n",
    "    column_check = ag_df[i].isin([0.0, 1.0, np.nan]).all()\n",
    "    if column_check:\n",
    "        print(f\"Values in {i} are only 0 and 1 or NAN.\")\n",
    "    else:\n",
    "        print(f\"Values in {i} are not only 0 and 1 or NAN.\")"
   ]
  },
  {
   "cell_type": "code",
   "execution_count": null,
   "id": "929d57ff-936a-4d8f-9e46-67d18ffd028b",
   "metadata": {
    "tags": []
   },
   "outputs": [],
   "source": [
    "unique_values = ag_df['BHKW2_Betriebsstatus'].value_counts()\n",
    "\n",
    "print(unique_values)\n"
   ]
  },
  {
   "cell_type": "code",
   "execution_count": null,
   "id": "1bc10729-3fa0-428f-b305-253cb8ed3080",
   "metadata": {},
   "outputs": [],
   "source": [
    "def normalize(df, var):\n",
    "    x = (df[var]-df[var].min())/(df[var].max()-df[var].min())\n",
    "    df[var] = x\n",
    "\n",
    "# normalize all rows\n",
    "for i in norm:\n",
    "    normalize(ag_df, i)"
   ]
  },
  {
   "cell_type": "code",
   "execution_count": null,
   "id": "b5ecf172-9f5d-4bdc-a443-04dae52502e4",
   "metadata": {
    "tags": []
   },
   "outputs": [],
   "source": [
    "# check if the y variable has some missing values\n",
    "def check_nan(df):\n",
    "    has_nan_values = df.isna().any().any()\n",
    "    if has_nan_values:\n",
    "        nan_counts = df.isna().sum()\n",
    "        return nan_counts\n",
    "    else:\n",
    "        return {}"
   ]
  },
  {
   "cell_type": "code",
   "execution_count": null,
   "id": "c0558c10-b29f-41da-b902-741f1fa160ff",
   "metadata": {
    "tags": []
   },
   "outputs": [],
   "source": [
    "# use linear interpolation to fill the gaps\n",
    "def linear_interpolation(df,col):\n",
    "    df[col] = df[col].interpolate()\n",
    "    \n",
    "for i in var:\n",
    "    linear_interpolation(ag_df, i)"
   ]
  },
  {
   "cell_type": "code",
   "execution_count": null,
   "id": "200b50b9-339d-4cca-989b-3c38f57901b0",
   "metadata": {
    "tags": []
   },
   "outputs": [],
   "source": [
    "# if no interpolation possible use ffill an bfill methods to fill rest of nan values\n",
    "def fill_forward(df,col):\n",
    "    df[col] = df[col].ffill()\n",
    "    \n",
    "def fill_backwards(df,col):\n",
    "    df[col] = df[col].bfill()"
   ]
  },
  {
   "cell_type": "code",
   "execution_count": null,
   "id": "8c49919a-6b09-4c29-8682-192f248d9079",
   "metadata": {
    "tags": []
   },
   "outputs": [],
   "source": [
    "# first fill forward\n",
    "for i in var:\n",
    "    fill_forward(ag_df,i)\n",
    "# fill backwards\n",
    "for i in var:\n",
    "    fill_backwards(ag_df, i)"
   ]
  },
  {
   "cell_type": "code",
   "execution_count": null,
   "id": "a0b74fc3-0c7b-43ef-9426-f52079a167e1",
   "metadata": {
    "tags": []
   },
   "outputs": [],
   "source": [
    "# remove all the columns that still have nan values \n",
    "# cause in this columns there are only nan values \n",
    "dic = check_nan(ag_df)\n",
    "lst_keys = [key for key, value in dic.items() if value != 0]\n",
    "df_pre = ag_df.drop(columns = lst_keys)\n",
    "check = check_nan(df_pre)\n",
    "print(check)\n",
    "#print(df_pre.head())"
   ]
  },
  {
   "cell_type": "code",
   "execution_count": null,
   "id": "d97f2148-5fc4-47e3-ba1b-a1bb8de16d7b",
   "metadata": {
    "tags": []
   },
   "outputs": [],
   "source": [
    "konstante_spalten = df_pre.columns[df_pre.nunique() == 1]\n",
    "\n",
    "print(konstante_spalten)"
   ]
  },
  {
   "cell_type": "code",
   "execution_count": null,
   "id": "1fe77b32-42d3-4100-8646-d29f9d97511e",
   "metadata": {
    "tags": []
   },
   "outputs": [],
   "source": [
    "# drop columns\n",
    "df_ts = df_pre[[\"Mitarbeiter_Summe\",\"Aktuelle_BHKW_Leistung_kW\",\"Aktueller_Strombezug_kW\", \"Aussentemperatur\",\"Wirkleistung_Verbrauch\", \n",
    "                  'BHKW1_Betriebsstatus','BHKW2_Betriebsstatus']]\n"
   ]
  },
  {
   "cell_type": "markdown",
   "id": "aad5e793-3cd5-4320-a5d9-0fb7a99252f1",
   "metadata": {},
   "source": [
    "# Save preprocessed dataset"
   ]
  },
  {
   "cell_type": "code",
   "execution_count": null,
   "id": "4809e93f-06fe-41bf-b4e0-24986b25d969",
   "metadata": {
    "tags": []
   },
   "outputs": [],
   "source": [
    "df_ts.to_csv(\"time_series.csv\", index =True)"
   ]
  },
  {
   "cell_type": "code",
   "execution_count": null,
   "id": "7e9c795e-efd4-4692-81a1-be9d3dcac049",
   "metadata": {},
   "outputs": [],
   "source": [
    "# make a train and a test dataset\n",
    "n = len(df_ts)\n",
    "\n",
    "# Split the DataFrame into two parts: first n-360 observations and last 360 observations\n",
    "train_df = df_ts.head(n - 360)\n",
    "test_df = df_ts.tail(360)\n",
    "\n",
    "train_df.to_csv(\"train_df.csv\", index =True)\n",
    "test_df.to_csv(\"test_df.csv\", index =True)"
   ]
  }
 ],
 "metadata": {
  "kernelspec": {
   "display_name": "Python 3 (ipykernel)",
   "language": "python",
   "name": "python3"
  },
  "language_info": {
   "codemirror_mode": {
    "name": "ipython",
    "version": 3
   },
   "file_extension": ".py",
   "mimetype": "text/x-python",
   "name": "python",
   "nbconvert_exporter": "python",
   "pygments_lexer": "ipython3",
   "version": "3.10.12"
  }
 },
 "nbformat": 4,
 "nbformat_minor": 5
}

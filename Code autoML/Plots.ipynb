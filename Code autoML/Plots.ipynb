{
 "cells": [
  {
   "cell_type": "code",
   "execution_count": null,
   "id": "a6fb14fc-9220-429d-9ca4-9db3faa254ac",
   "metadata": {},
   "outputs": [],
   "source": [
    "import seaborn as sns\n",
    "import matplotlib.pyplot as plt\n",
    "\n",
    "#confusion matrix\n",
    "def confusionmatrix(predictor, x_test, y_test, label_col, name):\n",
    "    '''\n",
    "    function to plot the confusion matrix of a respective model and given test data\n",
    "    \n",
    "    predictor = predictor of model to use\n",
    "    x_test = test dataframe\n",
    "    y_test = numpy array of test labels\n",
    "    label_col = label column of test dataframe  \n",
    "    name = name under which the plot should be saved\n",
    "    '''\n",
    "    #predict labels by the model\n",
    "    probs = predictor.predict_proba(x_test.drop(columns=label_col))\n",
    "    probs = probs.to_numpy()\n",
    "    #select label of class with highest output probability\n",
    "    y_pred = np.argmax(probs ,axis=1)\n",
    "    #create dataframe with actual and predicted labels\n",
    "    results = pd.DataFrame({'actual_y':y_test, 'predicted_y':y_pred}, columns=['actual_y','predicted_y'])\n",
    "    #create confusion matrix\n",
    "    cm = pd.crosstab(results['actual_y'], results['predicted_y'], rownames=['True labels'], colnames=['Predicted labels'])\n",
    "    #visualize matrix as heatmap\n",
    "    s= sns.heatmap(cm, annot=True, fmt='d', cmap=\"Greens\")\n",
    "    plt.savefig(\"plots_im/\" + name)\n",
    "    plt.show()\n",
    "    \n",
    "  "
   ]
  },
  {
   "cell_type": "code",
   "execution_count": null,
   "id": "4a57861e-84b4-42e5-9946-9fc5811238d8",
   "metadata": {
    "tags": []
   },
   "outputs": [],
   "source": [
    "from IPython.display import Image, display\n",
    "\n",
    "def plot_im(df):\n",
    "    # print test image\n",
    "    image_path = df.iloc[0]['image']\n",
    "    pil_img = Image(filename=image_path)\n",
    "    display(pil_img)\n",
    "    "
   ]
  }
 ],
 "metadata": {
  "kernelspec": {
   "display_name": "Python 3 (ipykernel)",
   "language": "python",
   "name": "python3"
  },
  "language_info": {
   "codemirror_mode": {
    "name": "ipython",
    "version": 3
   },
   "file_extension": ".py",
   "mimetype": "text/x-python",
   "name": "python",
   "nbconvert_exporter": "python",
   "pygments_lexer": "ipython3",
   "version": "3.10.12"
  }
 },
 "nbformat": 4,
 "nbformat_minor": 5
}

{
 "cells": [
  {
   "cell_type": "code",
   "execution_count": null,
   "id": "fa754af8-c2ce-41e0-b4bf-d2e7ac87ec66",
   "metadata": {
    "tags": []
   },
   "outputs": [],
   "source": [
    "def MSE(y_true, y_pred):\n",
    "    if len(y_true) != len(y_pred):\n",
    "        print(\"y_true and y_pred should have the same number of observations\")\n",
    "        return\n",
    "    else:\n",
    "        summed = 0\n",
    "        for i in range(0,len(y_true)):\n",
    "            x = y_true[i] - y_pred[i]\n",
    "            x_sq = x**2\n",
    "            summed += x_sq\n",
    "        summed = summed/len(y_true)\n",
    "        return summed"
   ]
  },
  {
   "cell_type": "code",
   "execution_count": null,
   "id": "ae67f698-625f-4757-9493-b98fde968b7a",
   "metadata": {
    "tags": []
   },
   "outputs": [],
   "source": [
    "import math \n",
    "def RMSE(y_true, y_pred):\n",
    "    mse = MSE(y_true, y_pred)\n",
    "    rmse = math.sqrt(mse)\n",
    "    return rmse"
   ]
  },
  {
   "cell_type": "code",
   "execution_count": null,
   "id": "7e1897fd-1b25-4497-8665-61f5cf69e6fa",
   "metadata": {
    "tags": []
   },
   "outputs": [],
   "source": [
    "def MAE(y_true, y_pred):\n",
    "    if len(y_true) != len(y_pred):\n",
    "        print(\"y_true and y_pred should have the same number of observations\")\n",
    "        return\n",
    "    else:\n",
    "        summed = 0\n",
    "        for i in range(0,len(y_true)):\n",
    "            x = y_true[i] - y_pred[i]\n",
    "            x_abs = abs(x)\n",
    "            summed += x_abs\n",
    "        summed = summed/len(y_true)\n",
    "        return summed\n",
    "    "
   ]
  },
  {
   "cell_type": "code",
   "execution_count": null,
   "id": "7dfa1441-da1e-4c1a-994f-2acad999981a",
   "metadata": {
    "tags": []
   },
   "outputs": [],
   "source": [
    "def MAPE(y_true, y_pred):\n",
    "    if len(y_true) != len(y_pred):\n",
    "        print(\"y_true and y_pred should have the same number of observations\")\n",
    "        return\n",
    "    else:\n",
    "        summed = 0\n",
    "        count = 0\n",
    "        for i in range(0,len(y_true)):\n",
    "            if y_true[i] == 0:\n",
    "                continue\n",
    "            else:    \n",
    "                x = (y_true[i] - y_pred[i])/y_true[i]\n",
    "                x_abs = abs(x) * 100\n",
    "                summed += x_abs\n",
    "                count += 1\n",
    "        summed = summed/len(y_true)\n",
    "        return summed"
   ]
  },
  {
   "cell_type": "code",
   "execution_count": null,
   "id": "2c8ee767-145e-4a56-9745-ec60c03e5df1",
   "metadata": {},
   "outputs": [],
   "source": [
    "from tabulate import tabulate\n",
    "def calculate_metrics(y_true, y_pred):\n",
    "    # calculate the metrics:\n",
    "    mse = round(MSE(y_true, y_pred),6)\n",
    "    rmse = round(RMSE(y_true, y_pred),6)\n",
    "    mae = round(MAE(y_true, y_pred),6)\n",
    "    mape = round(MAPE(y_true, y_pred),6)\n",
    "\n",
    "    # make table in latex format\n",
    "    table= [[\"Metric\", \"Value\"]]\n",
    "    table.append([\"MSE\", mse])\n",
    "    table.append([\"RMSE\", rmse])\n",
    "    table.append([\"MAE\", mae])\n",
    "    table.append([\"MAPE\", mape])\n",
    "    latex_table = tabulate(table, headers=\"firstrow\", tablefmt='latex')\n",
    "    print(latex_table)\n",
    "    return latex_table, mse, rmse, mae, mape"
   ]
  }
 ],
 "metadata": {
  "kernelspec": {
   "display_name": "Python 3 (ipykernel)",
   "language": "python",
   "name": "python3"
  },
  "language_info": {
   "codemirror_mode": {
    "name": "ipython",
    "version": 3
   },
   "file_extension": ".py",
   "mimetype": "text/x-python",
   "name": "python",
   "nbconvert_exporter": "python",
   "pygments_lexer": "ipython3",
   "version": "3.10.12"
  }
 },
 "nbformat": 4,
 "nbformat_minor": 5
}

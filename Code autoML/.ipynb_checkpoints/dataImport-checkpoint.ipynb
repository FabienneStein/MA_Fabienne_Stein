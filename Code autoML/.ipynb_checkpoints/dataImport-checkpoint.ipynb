{
 "cells": [
  {
   "cell_type": "markdown",
   "id": "c62f3eb3-c94f-4a86-8519-e5f98bac94c4",
   "metadata": {},
   "source": [
    "# MVTEC Datset (small dataset)"
   ]
  },
  {
   "cell_type": "code",
   "execution_count": null,
   "id": "4016a458-8520-4e81-9a0d-4309f15eec99",
   "metadata": {
    "tags": []
   },
   "outputs": [],
   "source": [
    "import numpy as np\n",
    "import pandas as pd\n",
    "import os\n",
    "from os import listdir\n",
    "from os import path\n",
    "from IPython.display import display, Image\n",
    "\n",
    "from numpy.random import seed\n",
    "seed(1234)\n",
    "import random\n",
    "random.seed(1234)\n",
    "\n",
    "import numpy as np\n",
    "np.random.seed(1234)\n",
    "from numpy.random import seed\n",
    "seed(1234)\n"
   ]
  },
  {
   "cell_type": "code",
   "execution_count": null,
   "id": "f2378108-011c-46d8-835e-cf7e617672c3",
   "metadata": {
    "tags": []
   },
   "outputs": [],
   "source": [
    "def MVTEC():\n",
    "    ''''\n",
    "    Function to create from data a dataFrame for each use case\n",
    "    DataFrame contains image path and its respective label as string (not one hot encoded)\n",
    "    '''\n",
    "    rootdir = \"Data/mvtec_anomaly_detection\"\n",
    "    # all test folders\n",
    "    dataFrames = []\n",
    "    for root, dirs, files in os.walk(rootdir, topdown=False):\n",
    "        datalist = []\n",
    "        #print(datalist)\n",
    "        for name in dirs:\n",
    "            pathes = os.path.join(root, name)\n",
    "            if \"test\" in name:\n",
    "                datalist.append(pathes)                    \n",
    "        df = pd.DataFrame(columns=['image', 'label'])\n",
    "        for dataset in datalist:\n",
    "            # label folder\n",
    "            # new use case\n",
    "            for label in os.walk(dataset):\n",
    "                im_folder = label[0]\n",
    "                # dont want parant folder test\n",
    "                if im_folder.endswith(\"test\"):\n",
    "                    continue\n",
    "                else:\n",
    "                    label = im_folder.rsplit('/', 1)[-1]\n",
    "                    for i in os.walk(im_folder):\n",
    "                        df2 = pd.DataFrame(columns=['image', 'label'])    \n",
    "                        im_path = i[2]\n",
    "                        p = im_folder +\"/\"\n",
    "                        full = [p + s for s in im_path]\n",
    "                        image = np.array(full)\n",
    "                        label = np.array([label]*len(image))\n",
    "                        A = np.array([image, label]).T\n",
    "                        df2[[\"image\", \"label\"]] = A\n",
    "                        df = pd.concat([df,df2])          \n",
    "            dataFrames.append(df)\n",
    "    return dataFrames        "
   ]
  },
  {
   "cell_type": "code",
   "execution_count": null,
   "id": "017a0caf-0363-4b09-aee9-afafa85908c9",
   "metadata": {
    "tags": []
   },
   "outputs": [],
   "source": [
    "def MVTEC_train():\n",
    "    rootdir = \"Data/mvtec_anomaly_detection\"\n",
    "    dataFrames = []\n",
    "    for root, dirs, files in os.walk(rootdir, topdown=False):\n",
    "        datalist = []\n",
    "        for name in dirs:\n",
    "            pathes = os.path.join(root, name)\n",
    "            #print(pathes)\n",
    "            if \"train\" in name:\n",
    "                # add the good training folder as path\n",
    "                pa = pathes +\"/good/\"\n",
    "                datalist.append(pa)\n",
    "                #print(datalist)\n",
    "        df = pd.DataFrame(columns=['image', 'label'])\n",
    "        for folder in datalist:\n",
    "            for images in os.listdir(folder):\n",
    "                label = \"good\"\n",
    "                im = folder + images\n",
    "                df.loc[len(df.index)] = [im, label]\n",
    "            df.reset_index(drop=True, inplace=True)\n",
    "            df.index = range(len(df))\n",
    "            dataFrames.append(df)  \n",
    "    return dataFrames"
   ]
  },
  {
   "cell_type": "code",
   "execution_count": null,
   "id": "1889c673-aecf-4886-bcee-cd18cdc0ac3b",
   "metadata": {
    "tags": []
   },
   "outputs": [],
   "source": [
    "def merge_data():\n",
    "    categories = [\"screw\",\"tile\", \"capsule\"]\n",
    "\n",
    "    df_defects = MVTEC()\n",
    "    df_good = MVTEC_train()\n",
    "\n",
    "    final_data = []\n",
    "    for i in categories:\n",
    "        # dummy df which replaced later\n",
    "        df_d = pd.DataFrame(columns=['image', 'label'])\n",
    "        df_g = pd.DataFrame(columns=['image', 'label'])\n",
    "        # get the respective defect dataframe\n",
    "        for j in df_defects:\n",
    "            #print(j)\n",
    "            if i in j[\"image\"].iloc[0]:\n",
    "                df_d = j\n",
    "                df_d.reset_index(drop=True, inplace=True)\n",
    "                df_d.index = pd.RangeIndex(start=0, stop=len(df_d), step=1)\n",
    "                df_d.drop(df_d[df_d[\"label\"] == \"good\"].index, inplace=True)\n",
    "                x = [\"defect\"]*len(df_d)\n",
    "                df_d[\"label\"] = x\n",
    "            else:\n",
    "                continue\n",
    "        # get the respective good dataFrame\n",
    "        for k in df_good:\n",
    "            if i in k[\"image\"].iloc[0]:\n",
    "                df_g = k           \n",
    "            else:\n",
    "                continue\n",
    "       # print(df_d)\n",
    "       # print(df_g)\n",
    "        length = len(df_d)\n",
    "        df_cut = df_g.head(length)\n",
    "        concat = pd.concat([df_d, df_cut])\n",
    "        final_data.append(concat) \n",
    "        \n",
    "    return final_data"
   ]
  },
  {
   "cell_type": "markdown",
   "id": "54ffeb97-393e-438b-9957-e72fba333cc7",
   "metadata": {},
   "source": [
    "# Synthetic Dataset"
   ]
  },
  {
   "cell_type": "code",
   "execution_count": null,
   "id": "23a22576-35fe-4f65-82e9-54ee089300ed",
   "metadata": {
    "tags": []
   },
   "outputs": [],
   "source": [
    "'''\n",
    "# 1 if broken\n",
    "# 0 if good\n",
    "\n",
    "def el_ins():\n",
    "    rootdir = \"/home/fabienne/Documents/MA/Data/electrical_insulator/test\"\n",
    "    df = pd.DataFrame(columns=['image', 'label'])\n",
    "    br = rootdir +\"/broken\"\n",
    "    go = rootdir + \"/good\"\n",
    "    im_br = []\n",
    "    im_go = []\n",
    "    for image in os.listdir(br):\n",
    "        im_br.append(br +\"/\"+ image)\n",
    "    for image in os.listdir(go):\n",
    "        im_go.append(go +\"/\"+ image) \n",
    "    df2 = pd.DataFrame(columns=['image', 'label']) \n",
    "    df3 = pd.DataFrame(columns=['image', 'label']) \n",
    "    label = np.array([1]*len(im_br))\n",
    "    A = np.array([im_br, label]).T\n",
    "    df2[[\"image\", \"label\"]] = A  \n",
    "    label2 =  label = np.array([0]*len(im_go))\n",
    "    B = np.array([im_go, label2]).T\n",
    "    df3[[\"image\", \"label\"]] = B  \n",
    "    df = pd.concat([df,df2,df3])    \n",
    "    \n",
    "    return df \n",
    "    '''"
   ]
  },
  {
   "cell_type": "code",
   "execution_count": null,
   "id": "c438a76a-3d3a-435b-bc25-4df076e16710",
   "metadata": {
    "tags": []
   },
   "outputs": [],
   "source": [
    "def MIAD():\n",
    "    ''''\n",
    "    Function to create from data a dataFrame for each use case\n",
    "    DataFrame contains image path and its respective label as string (not one hot encoded)\n",
    "    '''\n",
    "    rootdir = \"Data/synthetic\"\n",
    "    # all test folders\n",
    "    dataFrames = []\n",
    "    for root, dirs, files in os.walk(rootdir, topdown=False):\n",
    "        datalist = []\n",
    "        for name in dirs:\n",
    "            pathes = os.path.join(root, name)\n",
    "            if \"test\" in name:\n",
    "                datalist.append(pathes)                    \n",
    "        df = pd.DataFrame(columns=['image', 'label'])\n",
    "        for dataset in datalist:\n",
    "            # label folder\n",
    "            # new use case\n",
    "            for label in os.walk(dataset):\n",
    "                im_folder = label[0]\n",
    "                # dont want parant folder test\n",
    "                if im_folder.endswith(\"test\"):\n",
    "                    continue\n",
    "                else:\n",
    "                    label = im_folder.rsplit('/', 1)[-1]\n",
    "                    for i in os.walk(im_folder):\n",
    "                        df2 = pd.DataFrame(columns=['image', 'label'])    \n",
    "                        im_path = i[2]\n",
    "                        p = im_folder +\"/\"\n",
    "                        full = [p + s for s in im_path]\n",
    "                        image = np.array(full)\n",
    "                        label = np.array([label]*len(image))\n",
    "                        A = np.array([image, label]).T\n",
    "                        df2[[\"image\", \"label\"]] = A\n",
    "                        df = pd.concat([df,df2])          \n",
    "            dataFrames.append(df)\n",
    "    return dataFrames "
   ]
  },
  {
   "cell_type": "markdown",
   "id": "a2bef213-3ede-4bd7-80d2-9a69e65106b0",
   "metadata": {
    "tags": []
   },
   "source": [
    "# Time series"
   ]
  },
  {
   "cell_type": "code",
   "execution_count": null,
   "id": "754c4ab8-4a4a-41f3-84f2-81bb3cab26d0",
   "metadata": {
    "tags": []
   },
   "outputs": [],
   "source": [
    "def time_series(data):\n",
    "    df = pd.read_csv(data)\n",
    "    return df"
   ]
  }
 ],
 "metadata": {
  "kernelspec": {
   "display_name": "Python 3 (ipykernel)",
   "language": "python",
   "name": "python3"
  },
  "language_info": {
   "codemirror_mode": {
    "name": "ipython",
    "version": 3
   },
   "file_extension": ".py",
   "mimetype": "text/x-python",
   "name": "python",
   "nbconvert_exporter": "python",
   "pygments_lexer": "ipython3",
   "version": "3.10.12"
  }
 },
 "nbformat": 4,
 "nbformat_minor": 5
}

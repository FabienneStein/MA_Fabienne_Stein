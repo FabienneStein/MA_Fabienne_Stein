{
 "cells": [
  {
   "cell_type": "code",
   "execution_count": null,
   "id": "29ce6976-e9c5-4dcb-b665-e92b5e64e50d",
   "metadata": {
    "tags": []
   },
   "outputs": [],
   "source": [
    "from PIL import Image\n",
    "from numpy import asarray\n",
    "\n",
    "def to_array(df):\n",
    "    imageArray = [] # Arraylist with all nd array of images\n",
    "    label_array = []\n",
    "    for index, row in df.iterrows():\n",
    "        fpath = df[\"image\"].iloc[index]\n",
    "        label = df[\"label\"].iloc[index]\n",
    "        image = Image.open(fpath)\n",
    "        data = asarray(image)\n",
    "        imageArray.append(data)\n",
    "        label_array.append(label) \n",
    "    data = np.array(imageArray)\n",
    "    label_array = np.array(label_array) \n",
    "    \n",
    "    return data, label_array"
   ]
  },
  {
   "cell_type": "code",
   "execution_count": null,
   "id": "aaed359e-349e-4aa3-a545-bafb29b6e569",
   "metadata": {
    "tags": []
   },
   "outputs": [],
   "source": [
    "from sklearn.model_selection import train_test_split\n",
    "\n",
    "def prepare_data(df, seed):\n",
    "    '''\n",
    "    function to sample the data\n",
    "    make train/test, make sure that all labels in train as well as in test\n",
    "    df = dataframe to prepare\n",
    "    '''\n",
    "    labels = df['label'].unique()\n",
    "    train = pd.DataFrame()\n",
    "    test = pd.DataFrame()\n",
    "\n",
    "    for label in labels:\n",
    "        # Filter the dataframe for each label\n",
    "        label_data = df[df['label'] == label]\n",
    "\n",
    "        # Perform train-test split for the current label\n",
    "        train_label_data, test_label_data = train_test_split(label_data, test_size=0.2, random_state=seed) # make 20/80 split\n",
    "\n",
    "        # Append the split data to respective train and test dataframes\n",
    "        train = pd.concat([train, train_label_data])\n",
    "        test = pd.concat([test, test_label_data])\n",
    "    # shuffle the data - for more randomness in training process\n",
    "    train = train.sample(frac=1, random_state=seed)\n",
    "    test = test.sample(frac=1, random_state=seed)\n",
    "    \n",
    "    # reset the index from 0 to n -> needed for other functions afterwards\n",
    "    train.reset_index(drop=True, inplace=True)\n",
    "    test.reset_index(drop=True, inplace=True)\n",
    "    \n",
    "    return train, test"
   ]
  },
  {
   "cell_type": "code",
   "execution_count": null,
   "id": "2fe5f017-916f-4e46-9e55-02af4c0e94f1",
   "metadata": {},
   "outputs": [],
   "source": [
    "# search the datsets that I want\n",
    "def get_dataset(string):\n",
    "    for i in x:\n",
    "        path = i[\"image\"].iloc[0]\n",
    "        if string in path:\n",
    "            return i\n",
    "        else:\n",
    "            continue"
   ]
  },
  {
   "cell_type": "code",
   "execution_count": null,
   "id": "039eaec9-252c-42f8-b23b-5cbcded43309",
   "metadata": {
    "tags": []
   },
   "outputs": [],
   "source": [
    "from sklearn.model_selection import train_test_split\n",
    "# make split\n",
    "# define the target and label column, import for Autogluon\n",
    "def split_and_target(df, seed):\n",
    "    '''\n",
    "    function that splits the data into train and test\n",
    "    '''\n",
    "    train, test = train_test_split(df, test_size = 0.2, random_state=seed) # make 80/20 split\n",
    "    label_col = 'label' # define target column\n",
    "    image_col = 'image' # define the image column\n",
    "    return train, test, label_col, image_col"
   ]
  },
  {
   "cell_type": "code",
   "execution_count": null,
   "id": "aad3c8d4-9fdc-4596-90c0-80673c21662f",
   "metadata": {
    "tags": []
   },
   "outputs": [],
   "source": [
    "import re\n",
    "\n",
    "def get_name(df):\n",
    "\n",
    "    text = df[\"image\"][0]\n",
    "    text = text.replace('/home/fabienne/Documents/MA/Data/mvtec_anomaly_detection/',\"\")\n",
    "    try:    \n",
    "        name  = re.search(r\".+?/(?=train)\", text)\n",
    "        name = name.group()\n",
    "        name = name.replace(\"/\",\"\")\n",
    "    except:\n",
    "        name = \"unknown\"\n",
    "    return name"
   ]
  },
  {
   "cell_type": "code",
   "execution_count": null,
   "id": "3b41a07d-c515-4e37-a6eb-d9f0f880b98e",
   "metadata": {},
   "outputs": [],
   "source": []
  },
  {
   "cell_type": "code",
   "execution_count": null,
   "id": "baadea6d-eb4b-48b2-909d-14cd0d4bf113",
   "metadata": {},
   "outputs": [],
   "source": []
  }
 ],
 "metadata": {
  "kernelspec": {
   "display_name": "Python 3 (ipykernel)",
   "language": "python",
   "name": "python3"
  },
  "language_info": {
   "codemirror_mode": {
    "name": "ipython",
    "version": 3
   },
   "file_extension": ".py",
   "mimetype": "text/x-python",
   "name": "python",
   "nbconvert_exporter": "python",
   "pygments_lexer": "ipython3",
   "version": "3.10.12"
  }
 },
 "nbformat": 4,
 "nbformat_minor": 5
}

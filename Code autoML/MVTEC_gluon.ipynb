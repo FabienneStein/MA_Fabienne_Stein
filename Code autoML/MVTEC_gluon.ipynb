{
 "cells": [
  {
   "cell_type": "code",
   "execution_count": null,
   "id": "761d60fc-a4d8-4a23-ad8c-bc2f75338211",
   "metadata": {},
   "outputs": [],
   "source": [
    "%run dataImport.ipynb\n",
    "%run HelperFunctions.ipynb"
   ]
  },
  {
   "cell_type": "code",
   "execution_count": null,
   "id": "297717cc-f62a-4486-a692-89669004271d",
   "metadata": {},
   "outputs": [],
   "source": [
    "data = merge_data()\n",
    "screw = data[0]\n",
    "tile = data[1]\n",
    "capsule = data[2]\n",
    "print(len(data))"
   ]
  },
  {
   "cell_type": "code",
   "execution_count": null,
   "id": "8252c474-9540-48aa-ab30-2bc4f936ddb0",
   "metadata": {
    "tags": []
   },
   "outputs": [],
   "source": [
    "print(len(screw))\n",
    "print(len(tile))\n",
    "print(len(capsule))"
   ]
  },
  {
   "cell_type": "code",
   "execution_count": null,
   "id": "ce4d89ba-39ec-4d36-b888-728fe6ebb800",
   "metadata": {},
   "outputs": [],
   "source": [
    "# buold predictor and stuff for Autogluon\n",
    "from autogluon.multimodal import MultiModalPredictor\n",
    "from datetime import datetime as dt\n",
    "def fit(train_dat, label_col, seed, max_time,name):\n",
    "    '''\n",
    "    function to predict an Image dataset with autogluon\n",
    "    '''\n",
    "    # measure the fitting time\n",
    "    start_time = dt.now()\n",
    "    model_path = path=\"plots_im/Autogluon/\" + name + str(seed)\n",
    "    # build predictor object\n",
    "    predictor = MultiModalPredictor(label=label_col, path=model_path).fit(\n",
    "    train_data=train_dat, # add train data\n",
    "    seed = seed,\n",
    "    time_limit = max_time\n",
    "        # max time limit\n",
    "    )\n",
    "    \n",
    "    #fit the model\n",
    "    fit_summary = predictor.fit_summary(verbosity=0, show_plot=True) # print no output, too long for the notebook\n",
    "    # end of time measure\n",
    "    end_time = dt.now()\n",
    "    \n",
    "    elapsed_seconds = (end_time - start_time).total_seconds()\n",
    "    elapsed_min = divmod(elapsed_seconds, 60)\n",
    "    # print the elapsed time\n",
    "    time_passed = f\"{int(elapsed_min[0])}m{int(elapsed_min[1])}s\"\n",
    "    print(\"Total fitting time: \", f\"{int(elapsed_min[0])}m{int(elapsed_min[1])}s\")\n",
    "    \n",
    "    # print the fir summary\n",
    "    print(fit_summary)\n",
    "    return predictor, fit_summary, time_passed\n",
    "    "
   ]
  },
  {
   "cell_type": "code",
   "execution_count": null,
   "id": "39b1bb7b-33a9-47d8-9a90-8b6836840e86",
   "metadata": {},
   "outputs": [],
   "source": [
    "def max_times(file):\n",
    "    times = []\n",
    "    with open(file, 'r') as file:\n",
    "            for line in file:            \n",
    "                try:\n",
    "                    line.replace(\"\\n\",\"\")\n",
    "                    line = int(float(line))\n",
    "                    times.append(line)\n",
    "                except:\n",
    "                    line = int(float(line))\n",
    "                    times.append(line) \n",
    "    return times\n",
    "\n",
    "time_screw = max_times(\"MVTEC.txt\")\n",
    "time_tile = max_times(\"MVTEC_tile.txt\")\n",
    "time_capsule = max_times(\"MVTEC_capsule.txt\")\n",
    "print(time_screw)\n",
    "print(time_tile)\n",
    "print(time_capsule)"
   ]
  },
  {
   "cell_type": "code",
   "execution_count": null,
   "id": "fdcf510a-5a6f-41e4-bffd-22996f797304",
   "metadata": {},
   "outputs": [],
   "source": [
    "import numpy as np\n",
    "import warnings\n",
    "import matplotlib.pyplot as plt\n",
    "from sklearn.metrics import confusion_matrix\n",
    "import seaborn as sns\n",
    "\n",
    "def classify_image(dataset, times, name, metricName):\n",
    "    warnings.filterwarnings('ignore')\n",
    "    seeds = [1,2,3,4,5,6,7,8,9,10]\n",
    "    # latex table\n",
    "    from tabulate import tabulate\n",
    "    table_mvtec = pd.DataFrame(columns=[\"Accuracy\", \"ROC AUC\", \"Precision\", \"F1-score\", \"Time\"]) \n",
    "    #[[\"Object\", \"Accuracy\", \"ROC AUC\", \"Precision\",\"f1\", \"Time\"]]\n",
    "    \n",
    "    count_mvtec = 0\n",
    "    \n",
    "        # run experiment series 10 times\n",
    "    for i in seeds:\n",
    "        np.random.seed(i)\n",
    "        # extract which datset\n",
    "        #name = get_name(data)\n",
    "        train, test = prepare_data(dataset,i)\n",
    "    \n",
    "        # call the fit function\n",
    "        predictor, fit_summary, time = fit(train, \"label\", i, times[count_mvtec],name)\n",
    "    \n",
    "        probs = predictor.predict_proba(test.drop(columns=\"label\"))\n",
    "        y_test = test[\"label\"].to_numpy()\n",
    "        y_test = [1 if value == \"good\" else 0 for value in y_test]\n",
    "        probs = probs.to_numpy() \n",
    "        y_pred = np.argmax(probs ,axis=1)\n",
    "    \n",
    "        cm = confusion_matrix(y_test, y_pred)\n",
    "        plt.figure(figsize=(6, 4))\n",
    "        sns.heatmap(cm, annot=True, fmt='d', cmap=\"Greens\", cbar=True,\n",
    "                xticklabels=['0', '1'], \n",
    "                yticklabels=['0', '1'])\n",
    "        plt.xlabel('Predicted label')\n",
    "        plt.ylabel('True label')\n",
    "        plt.savefig(\"plots_im/Autogluon/\" + name + str(count_mvtec))\n",
    "    \n",
    "    \n",
    "        eval = predictor.evaluate(test, metrics=[\"accuracy\", \"roc_auc\", \"precision\", \"f1\"])\n",
    "        row_f = {\"Accuracy\": eval[\"accuracy\"], 'ROC AUC': eval[\"roc_auc\"], 'Precision': eval[\"precision\"], \"F1-score\":eval[\"f1\"],\"Time\":time}\n",
    "        table_mvtec.loc[len(table_mvtec)] = row_f\n",
    "        count_mvtec += 1\n",
    "    \n",
    "    table_mvtec.to_csv(metricName, index = True)"
   ]
  },
  {
   "cell_type": "code",
   "execution_count": null,
   "id": "5863208f-7706-4f0f-b682-f223b4ff4448",
   "metadata": {},
   "outputs": [],
   "source": [
    "classify_image(screw,screw_tile, \"screw\", \"Autogluon_metrics_screw.csv\")"
   ]
  },
  {
   "cell_type": "code",
   "execution_count": null,
   "id": "277fda02-7dbf-46d2-b983-499a5ca8cd88",
   "metadata": {},
   "outputs": [],
   "source": [
    "classify_image(tile,time_tile, \"tile\", \"Autogluon_metrics_tile.csv\")"
   ]
  },
  {
   "cell_type": "code",
   "execution_count": null,
   "id": "81a11aff-b675-45cc-8d24-f90e97b36e76",
   "metadata": {
    "tags": []
   },
   "outputs": [],
   "source": [
    "classify_image(capsule,time_capsule, \"capsule\", \"Autogluon_metrics_capsule.csv\")"
   ]
  }
 ],
 "metadata": {
  "kernelspec": {
   "display_name": "Python 3 (ipykernel)",
   "language": "python",
   "name": "python3"
  },
  "language_info": {
   "codemirror_mode": {
    "name": "ipython",
    "version": 3
   },
   "file_extension": ".py",
   "mimetype": "text/x-python",
   "name": "python",
   "nbconvert_exporter": "python",
   "pygments_lexer": "ipython3",
   "version": "3.10.12"
  }
 },
 "nbformat": 4,
 "nbformat_minor": 5
}
